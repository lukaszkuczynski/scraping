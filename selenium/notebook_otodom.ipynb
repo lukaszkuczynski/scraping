{
 "cells": [
  {
   "cell_type": "code",
   "execution_count": null,
   "metadata": {},
   "outputs": [],
   "source": [
    "from selenium import webdriver\n",
    "from selenium.webdriver.common.keys import Keys\n",
    "from selenium.webdriver.common.by import By"
   ]
  },
  {
   "cell_type": "code",
   "execution_count": null,
   "metadata": {},
   "outputs": [],
   "source": [
    "URL = \"https://www.otodom.pl/pl/oferty/sprzedaz/mieszkanie/wroclaw/psie-pole?distanceRadius=0&page=1&limit=36&market=ALL&locations=%5Bdistricts_6-4%5D&by=DEFAULT&direction=DESC&viewType=listing&lang=pl&searchingCriteria=sprzedaz&searchingCriteria=mieszkanie&searchingCriteria=cala-polska\""
   ]
  },
  {
   "cell_type": "code",
   "execution_count": null,
   "metadata": {},
   "outputs": [],
   "source": [
    "driver = webdriver.Chrome()\n",
    "driver.get(URL)\n",
    "driver.execute_script(\"window.scrollTo(0,document.body.scrollHeight);\")\n",
    "driver.implicitly_wait(5)"
   ]
  },
  {
   "cell_type": "code",
   "execution_count": null,
   "metadata": {},
   "outputs": [],
   "source": [
    "def safe_find_by_class(element, class_name):\n",
    "    elems = element.find_elements(By.CLASS_NAME, class_name)\n",
    "    if len(elems) > 0:\n",
    "        return elems[0].text\n",
    "    else:\n",
    "        return None\n",
    "\n",
    "def safe_find_by_xpath(element, xpath):\n",
    "    elems = element.find_elements(By.XPATH, xpath)\n",
    "    if len(elems) > 0:\n",
    "        return elems[0].text\n",
    "    else:\n",
    "        return None        "
   ]
  },
  {
   "cell_type": "code",
   "execution_count": null,
   "metadata": {},
   "outputs": [],
   "source": [
    "offers = driver.find_elements(By.XPATH, \"//div[contains(@data-cy, 'search.listing')]//ul/li\")\n",
    "len(offers)"
   ]
  },
  {
   "cell_type": "code",
   "execution_count": null,
   "metadata": {},
   "outputs": [],
   "source": [
    "def gen_offers(offer_divs):\n",
    "    for offer in offers:\n",
    "        if offer.is_displayed():\n",
    "            location = safe_find_by_xpath(offer, \"a/article/p/span\")\n",
    "            title = safe_find_by_xpath(offer, \"a/article/div[1]/h3\")\n",
    "            price = safe_find_by_xpath(offer, \"a/article/div[2]/span\")\n",
    "            if title:\n",
    "                yield { \n",
    "                    \"title\": title,\n",
    "                    \"location\": location,\n",
    "                    \"price\": price\n",
    "                }"
   ]
  },
  {
   "cell_type": "code",
   "execution_count": null,
   "metadata": {},
   "outputs": [],
   "source": [
    "from pprint import pprint\n",
    "offers_parsed = list(gen_offers(offers))"
   ]
  },
  {
   "cell_type": "code",
   "execution_count": null,
   "metadata": {},
   "outputs": [],
   "source": [
    "len(offers_parsed)"
   ]
  },
  {
   "cell_type": "code",
   "execution_count": null,
   "metadata": {},
   "outputs": [],
   "source": [
    "driver.close()"
   ]
  }
 ],
 "metadata": {
  "kernelspec": {
   "display_name": "selenium--Edl6oM2",
   "language": "python",
   "name": "python3"
  },
  "language_info": {
   "codemirror_mode": {
    "name": "ipython",
    "version": 3
   },
   "file_extension": ".py",
   "mimetype": "text/x-python",
   "name": "python",
   "nbconvert_exporter": "python",
   "pygments_lexer": "ipython3",
   "version": "3.9.12"
  },
  "orig_nbformat": 4,
  "vscode": {
   "interpreter": {
    "hash": "0d54257099b05de6b7f187fde6fe208182631a527e241aa67644a6042f47eb6e"
   }
  }
 },
 "nbformat": 4,
 "nbformat_minor": 2
}
